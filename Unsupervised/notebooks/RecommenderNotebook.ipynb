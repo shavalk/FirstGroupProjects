{
 "cells": [
  {
   "cell_type": "markdown",
   "metadata": {
    "colab_type": "text",
    "id": "XHMyjbkQnplY"
   },
   "source": [
    "# *MOVIE*  *RECOMMENDATION* \n"
   ]
  },
  {
   "cell_type": "markdown",
   "metadata": {
    "colab_type": "text",
    "id": "ec_97eYPpTwE"
   },
   "source": [
    "#Introduction"
   ]
  },
  {
   "cell_type": "markdown",
   "metadata": {
    "colab_type": "text",
    "id": "eoEEOC9Mr125"
   },
   "source": [
    "In today’s technology driven world, recommender systems are socially and economically critical for ensuring that individuals can make appropriate choices surrounding the content they engage with on a daily basis. One application where this is especially true surrounds movie content recommendations; where algorithms can help viewers find great titles from tens of thousands of options.\n",
    "\n",
    "\n"
   ]
  },
  {
   "cell_type": "markdown",
   "metadata": {
    "colab_type": "text",
    "id": "R5gSSoU_tJwB"
   },
   "source": [
    "\n",
    "This notebook aims to construct a recommendation algorithm based on content or collaborative filtering which will be capable of accurately predicting how a user will rate a movie they have not yet viewed based on their historical preferences."
   ]
  },
  {
   "cell_type": "markdown",
   "metadata": {
    "colab_type": "text",
    "id": "nOCu9iSJtUKe"
   },
   "source": [
    "This will be done by importing necesarry libraries as well as the useful datasets needed for prediction.Some exploratory data analysis will be done to get insights of the datasets before diving into the recommendation algorithm.\n",
    "\n",
    "\n"
   ]
  },
  {
   "cell_type": "markdown",
   "metadata": {
    "colab_type": "text",
    "id": "I8cLHy3N2YWN"
   },
   "source": [
    "An easy-to-use python scikit library called Surprise will be used for building and analyzing the reccommender sytem.The name SurPRISE (roughly :) ) stands for Simple Python RecommendatIon System Engine and this engine deals with explicit rating data.\n",
    "\n",
    "Amongst other things, the engine can do the following:\n",
    "\n",
    "\n",
    "*   Provide various ready-to-use prediction algorithms such as baseline algorithms, neighborhood methods, matrix factorization-based ( SVD, PMF, SVD++, NMF), and many others.\n",
    "\n",
    "\n",
    "*   Provide tools to evaluate, analyse and compare the algorithms performance\n",
    "\n",
    "\n",
    "*   Make it easy to implement new algorithm ideas\n",
    "\n",
    "\n",
    "\n",
    "\n"
   ]
  },
  {
   "cell_type": "markdown",
   "metadata": {
    "colab_type": "text",
    "id": "XMeTklS4yOgB"
   },
   "source": [
    "The dataset used in this notebbok is the MovieLens dataset which has been enriched with additional data, and resampled for fair evaluation purposes."
   ]
  },
  {
   "cell_type": "markdown",
   "metadata": {
    "colab_type": "text",
    "id": "wSuTeQf-hCrk"
   },
   "source": [
    "# Problem statement\n",
    "Construct a recommendation algorithm that is capable of accurately predicting how a user will rate a movie they have not yet viewed based on their historical preferences\n",
    "\n"
   ]
  },
  {
   "cell_type": "markdown",
   "metadata": {
    "colab_type": "text",
    "id": "t-j6uVpFhki_"
   },
   "source": [
    "# Aim\n",
    "\n",
    "Providing an accurate and robust solution with an rmse that is lower that 0.85 to the movie rating prediction."
   ]
  },
  {
   "cell_type": "markdown",
   "metadata": {
    "colab_type": "text",
    "id": "ike1HVEPhtm8"
   },
   "source": [
    "# Scope\n",
    "\n",
    "The scope of the project will be to analyse a given dataset. These dataset will then be used to train an unsupervised machine learning technique to solve the problem."
   ]
  },
  {
   "cell_type": "markdown",
   "metadata": {
    "colab_type": "text",
    "id": "q6dsoTx4j6F5"
   },
   "source": [
    "#Version Control Setup"
   ]
  },
  {
   "cell_type": "markdown",
   "metadata": {
    "colab_type": "text",
    "id": "n0pWoM7PmSDc"
   },
   "source": [
    "##Start Comet Experiment"
   ]
  },
  {
   "cell_type": "code",
   "execution_count": 1,
   "metadata": {
    "colab": {
     "base_uri": "https://localhost:8080/",
     "height": 623
    },
    "colab_type": "code",
    "id": "F5p_U0XykEy0",
    "outputId": "6b422e72-9aca-4677-bf71-e83c0d3d498f"
   },
   "outputs": [
    {
     "name": "stdout",
     "output_type": "stream",
     "text": [
      "Collecting comet_ml\n",
      "\u001b[?25l  Downloading https://files.pythonhosted.org/packages/ac/5c/7249c440d62a1ccb4e080a486b56a3f0fa55bb95d27024f7638ca4020c21/comet_ml-3.1.14-py2.py3-none-any.whl (216kB)\n",
      "\u001b[K     |████████████████████████████████| 225kB 2.7MB/s \n",
      "\u001b[?25hCollecting websocket-client>=0.55.0\n",
      "\u001b[?25l  Downloading https://files.pythonhosted.org/packages/4c/5f/f61b420143ed1c8dc69f9eaec5ff1ac36109d52c80de49d66e0c36c3dfdf/websocket_client-0.57.0-py2.py3-none-any.whl (200kB)\n",
      "\u001b[K     |████████████████████████████████| 204kB 8.8MB/s \n",
      "\u001b[?25hCollecting wurlitzer>=1.0.2\n",
      "  Downloading https://files.pythonhosted.org/packages/0c/1e/52f4effa64a447c4ec0fb71222799e2ac32c55b4b6c1725fccdf6123146e/wurlitzer-2.0.1-py2.py3-none-any.whl\n",
      "Collecting everett[ini]>=1.0.1; python_version >= \"3.0\"\n",
      "  Downloading https://files.pythonhosted.org/packages/12/34/de70a3d913411e40ce84966f085b5da0c6df741e28c86721114dd290aaa0/everett-1.0.2-py2.py3-none-any.whl\n",
      "Requirement already satisfied: six in /usr/local/lib/python3.6/dist-packages (from comet_ml) (1.15.0)\n",
      "Collecting comet-git-pure>=0.19.11\n",
      "\u001b[?25l  Downloading https://files.pythonhosted.org/packages/72/7a/483413046e48908986a0f9a1d8a917e1da46ae58e6ba16b2ac71b3adf8d7/comet_git_pure-0.19.16-py3-none-any.whl (409kB)\n",
      "\u001b[K     |████████████████████████████████| 419kB 10.9MB/s \n",
      "\u001b[?25hRequirement already satisfied: nvidia-ml-py3>=7.352.0 in /usr/local/lib/python3.6/dist-packages (from comet_ml) (7.352.0)\n",
      "Requirement already satisfied: jsonschema!=3.1.0,>=2.6.0 in /usr/local/lib/python3.6/dist-packages (from comet_ml) (2.6.0)\n",
      "Requirement already satisfied: requests>=2.18.4 in /usr/local/lib/python3.6/dist-packages (from comet_ml) (2.23.0)\n",
      "Requirement already satisfied: wrapt>=1.11.2 in /usr/local/lib/python3.6/dist-packages (from comet_ml) (1.12.1)\n",
      "Collecting netifaces>=0.10.7\n",
      "  Downloading https://files.pythonhosted.org/packages/0c/9b/c4c7eb09189548d45939a3d3a6b3d53979c67d124459b27a094c365c347f/netifaces-0.10.9-cp36-cp36m-manylinux1_x86_64.whl\n",
      "Collecting configobj; extra == \"ini\"\n",
      "  Downloading https://files.pythonhosted.org/packages/64/61/079eb60459c44929e684fa7d9e2fdca403f67d64dd9dbac27296be2e0fab/configobj-5.0.6.tar.gz\n",
      "Requirement already satisfied: urllib3>=1.24.1 in /usr/local/lib/python3.6/dist-packages (from comet-git-pure>=0.19.11->comet_ml) (1.24.3)\n",
      "Requirement already satisfied: certifi in /usr/local/lib/python3.6/dist-packages (from comet-git-pure>=0.19.11->comet_ml) (2020.6.20)\n",
      "Requirement already satisfied: idna<3,>=2.5 in /usr/local/lib/python3.6/dist-packages (from requests>=2.18.4->comet_ml) (2.10)\n",
      "Requirement already satisfied: chardet<4,>=3.0.2 in /usr/local/lib/python3.6/dist-packages (from requests>=2.18.4->comet_ml) (3.0.4)\n",
      "Building wheels for collected packages: configobj\n",
      "  Building wheel for configobj (setup.py) ... \u001b[?25l\u001b[?25hdone\n",
      "  Created wheel for configobj: filename=configobj-5.0.6-cp36-none-any.whl size=34546 sha256=163b676a68838cf851d04ffa8369c395bc6594a11e840568c653c6836670944f\n",
      "  Stored in directory: /root/.cache/pip/wheels/f1/e4/16/4981ca97c2d65106b49861e0b35e2660695be7219a2d351ee0\n",
      "Successfully built configobj\n",
      "Installing collected packages: websocket-client, wurlitzer, configobj, everett, comet-git-pure, netifaces, comet-ml\n",
      "Successfully installed comet-git-pure-0.19.16 comet-ml-3.1.14 configobj-5.0.6 everett-1.0.2 netifaces-0.10.9 websocket-client-0.57.0 wurlitzer-2.0.1\n"
     ]
    }
   ],
   "source": [
    "!pip install comet_ml\n"
   ]
  },
  {
   "cell_type": "code",
   "execution_count": 2,
   "metadata": {
    "colab": {
     "base_uri": "https://localhost:8080/",
     "height": 52
    },
    "colab_type": "code",
    "id": "TyC9s7SAlMQ4",
    "outputId": "14f26afd-205d-401a-fdd7-ddc22dedf145"
   },
   "outputs": [
    {
     "name": "stderr",
     "output_type": "stream",
     "text": [
      "COMET INFO: Experiment is live on comet.ml https://www.comet.ml/rachel-ramonyai/general/7bbb59f0744340e2bec16b205043eea8\n",
      "\n"
     ]
    }
   ],
   "source": [
    "# import comet_ml in the top of your file\n",
    "from comet_ml import Experiment\n",
    "    \n",
    "# Add the following code anywhere in your machine learning file\n",
    "experiment = Experiment(api_key=\"kyaDe1YHDUV60KbpzF3dVpIuk\",\n",
    "                        project_name=\"general\", workspace=\"rachel-ramonyai\")"
   ]
  },
  {
   "cell_type": "markdown",
   "metadata": {
    "colab_type": "text",
    "id": "VWvzv2OnwJjT"
   },
   "source": [
    "# Technical Notebook Setup"
   ]
  },
  {
   "cell_type": "code",
   "execution_count": 3,
   "metadata": {
    "colab": {
     "base_uri": "https://localhost:8080/",
     "height": 285
    },
    "colab_type": "code",
    "id": "ngkJg5gvXtCS",
    "outputId": "b72df0f9-e8a5-44b0-cff6-d3feb900175f"
   },
   "outputs": [
    {
     "name": "stdout",
     "output_type": "stream",
     "text": [
      "Collecting scikit-surprise\n",
      "\u001b[?25l  Downloading https://files.pythonhosted.org/packages/97/37/5d334adaf5ddd65da99fc65f6507e0e4599d092ba048f4302fe8775619e8/scikit-surprise-1.1.1.tar.gz (11.8MB)\n",
      "\u001b[K     |████████████████████████████████| 11.8MB 322kB/s \n",
      "\u001b[?25hRequirement already satisfied: joblib>=0.11 in /usr/local/lib/python3.6/dist-packages (from scikit-surprise) (0.16.0)\n",
      "Requirement already satisfied: numpy>=1.11.2 in /usr/local/lib/python3.6/dist-packages (from scikit-surprise) (1.18.5)\n",
      "Requirement already satisfied: scipy>=1.0.0 in /usr/local/lib/python3.6/dist-packages (from scikit-surprise) (1.4.1)\n",
      "Requirement already satisfied: six>=1.10.0 in /usr/local/lib/python3.6/dist-packages (from scikit-surprise) (1.15.0)\n",
      "Building wheels for collected packages: scikit-surprise\n",
      "  Building wheel for scikit-surprise (setup.py) ... \u001b[?25l\u001b[?25hdone\n",
      "  Created wheel for scikit-surprise: filename=scikit_surprise-1.1.1-cp36-cp36m-linux_x86_64.whl size=1670911 sha256=52303dcc3958c5378ba04947f8e3051a6f4e2f9594b74505c4ea0382fdc24e43\n",
      "  Stored in directory: /root/.cache/pip/wheels/78/9c/3d/41b419c9d2aff5b6e2b4c0fc8d25c538202834058f9ed110d0\n",
      "Successfully built scikit-surprise\n",
      "Installing collected packages: scikit-surprise\n",
      "Successfully installed scikit-surprise-1.1.1\n"
     ]
    }
   ],
   "source": [
    "!pip install scikit-surprise"
   ]
  },
  {
   "cell_type": "code",
   "execution_count": 4,
   "metadata": {
    "colab": {
     "base_uri": "https://localhost:8080/",
     "height": 72
    },
    "colab_type": "code",
    "id": "z8tVBDJewciV",
    "outputId": "0120e69c-bdff-4cd6-b8da-8d46b1f574b9"
   },
   "outputs": [
    {
     "name": "stderr",
     "output_type": "stream",
     "text": [
      "/usr/local/lib/python3.6/dist-packages/statsmodels/tools/_testing.py:19: FutureWarning: pandas.util.testing is deprecated. Use the functions in the public API at pandas.testing instead.\n",
      "  import pandas.util.testing as tm\n"
     ]
    }
   ],
   "source": [
    "import pandas as pd\n",
    "from tqdm import tqdm \n",
    "import numpy as np\n",
    "import matplotlib.pyplot as plt\n",
    "import seaborn as sns\n",
    "%matplotlib inline\n",
    "\n",
    "#Metrics Measurement\n",
    "from surprise import accuracy\n",
    "from surprise.model_selection import cross_validate\n",
    "\n",
    "#Surprise Models\n",
    "from surprise import SVD,SVDpp\n",
    "from surprise import Dataset,Reader\n",
    "\n",
    "#Data split\n",
    "from surprise.model_selection import train_test_split\n"
   ]
  },
  {
   "cell_type": "markdown",
   "metadata": {
    "colab_type": "text",
    "id": "ui-9D9GuxEF0"
   },
   "source": [
    "#Datasets"
   ]
  },
  {
   "cell_type": "markdown",
   "metadata": {
    "colab_type": "text",
    "id": "vO113k336nPr"
   },
   "source": [
    "###Description"
   ]
  },
  {
   "cell_type": "markdown",
   "metadata": {
    "colab_type": "text",
    "id": "e5EJSEwfxHmL"
   },
   "source": [
    "The dataset consists of several million 5-star ratings obtained from users of the online MovieLens movie recommendation service. The MovieLens dataset has long been used by industry and academic researchers to improve the performance of explicitly-based recommender systems.\n",
    "\n"
   ]
  },
  {
   "cell_type": "markdown",
   "metadata": {
    "colab_type": "text",
    "id": "vdidhdQs3eso"
   },
   "source": [
    "###Supplied Files\n",
    "\n",
    "\n",
    "There are a total of 8 csv files supplied and in this notebook we only use 3 of them. These are:\n",
    "\n",
    "train.csv - The training split of the dataset. Contains user and movie IDs with associated rating data.\n",
    "\n",
    "\n",
    "movies.csv - Movie information is contained in this file;includes title and genre \n",
    "\n",
    "\n",
    "test.csv - The test split of the dataset. Contains user and movie IDs with no rating data\n",
    "\n"
   ]
  },
  {
   "cell_type": "markdown",
   "metadata": {
    "colab_type": "text",
    "id": "xdX3foV_38Z0"
   },
   "source": [
    "# Data and Variable Setup\n",
    "\n",
    "\n",
    "This section loads and checks the data needed to run this notebook.\n",
    "\n",
    "To ensure the notebook runs without any error, the relevent csv files need to be present in the notebook's directory before running the next cell.\n",
    "\n",
    "The code will load the datasets into the notebook and display the information of the data, check if there are gaps or blanks in the dataset and check for the balance in the overal dataset."
   ]
  },
  {
   "cell_type": "code",
   "execution_count": 5,
   "metadata": {
    "colab": {},
    "colab_type": "code",
    "id": "98vY_1Do6AwL"
   },
   "outputs": [],
   "source": [
    "train = pd.read_csv(\"train.csv\")\n",
    "movies = pd.read_csv(\"movies.csv\")\n",
    "test = pd.read_csv(\"test.csv\")\n",
    "submission = pd.read_csv(\"sample_submission.csv\")"
   ]
  },
  {
   "cell_type": "code",
   "execution_count": 6,
   "metadata": {
    "colab": {},
    "colab_type": "code",
    "id": "lf6SgNzkRINb"
   },
   "outputs": [],
   "source": [
    "reader = Reader(rating_scale=(0.5, 5))\n",
    "data = Dataset.load_from_df(train.drop('timestamp',1)[['userId', 'movieId', 'rating']], reader)"
   ]
  },
  {
   "cell_type": "markdown",
   "metadata": {
    "colab_type": "text",
    "id": "qDYzhV2h7Fxk"
   },
   "source": [
    "#Exploratory Data Analysis"
   ]
  },
  {
   "cell_type": "markdown",
   "metadata": {
    "colab_type": "text",
    "id": "S2CtusvyvyRg"
   },
   "source": [
    "The following section of the notebook focuses on understanding the data that was provided. The data will be loaded into the notebook and assessed accordingly. This will assist in making decisions regarding which insights we can derive from the dataset.\n",
    "\n",
    "It is important to understand the data that is being worked with for the project. Many calculated insights can be derived from the dataset that can provide usable information within the marketing sector.\n"
   ]
  },
  {
   "cell_type": "code",
   "execution_count": 7,
   "metadata": {
    "colab": {
     "base_uri": "https://localhost:8080/",
     "height": 197
    },
    "colab_type": "code",
    "id": "ZK5R7hqYBsKl",
    "outputId": "71e4b802-a4a8-422b-d798-328d67a2a6af"
   },
   "outputs": [
    {
     "data": {
      "text/html": [
       "<div>\n",
       "<style scoped>\n",
       "    .dataframe tbody tr th:only-of-type {\n",
       "        vertical-align: middle;\n",
       "    }\n",
       "\n",
       "    .dataframe tbody tr th {\n",
       "        vertical-align: top;\n",
       "    }\n",
       "\n",
       "    .dataframe thead th {\n",
       "        text-align: right;\n",
       "    }\n",
       "</style>\n",
       "<table border=\"1\" class=\"dataframe\">\n",
       "  <thead>\n",
       "    <tr style=\"text-align: right;\">\n",
       "      <th></th>\n",
       "      <th>userId</th>\n",
       "      <th>movieId</th>\n",
       "      <th>rating</th>\n",
       "      <th>timestamp</th>\n",
       "    </tr>\n",
       "  </thead>\n",
       "  <tbody>\n",
       "    <tr>\n",
       "      <th>0</th>\n",
       "      <td>5163</td>\n",
       "      <td>57669</td>\n",
       "      <td>4.0</td>\n",
       "      <td>1518349992</td>\n",
       "    </tr>\n",
       "    <tr>\n",
       "      <th>1</th>\n",
       "      <td>106343</td>\n",
       "      <td>5</td>\n",
       "      <td>4.5</td>\n",
       "      <td>1206238739</td>\n",
       "    </tr>\n",
       "    <tr>\n",
       "      <th>2</th>\n",
       "      <td>146790</td>\n",
       "      <td>5459</td>\n",
       "      <td>5.0</td>\n",
       "      <td>1076215539</td>\n",
       "    </tr>\n",
       "    <tr>\n",
       "      <th>3</th>\n",
       "      <td>106362</td>\n",
       "      <td>32296</td>\n",
       "      <td>2.0</td>\n",
       "      <td>1423042565</td>\n",
       "    </tr>\n",
       "    <tr>\n",
       "      <th>4</th>\n",
       "      <td>9041</td>\n",
       "      <td>366</td>\n",
       "      <td>3.0</td>\n",
       "      <td>833375837</td>\n",
       "    </tr>\n",
       "  </tbody>\n",
       "</table>\n",
       "</div>"
      ],
      "text/plain": [
       "   userId  movieId  rating   timestamp\n",
       "0    5163    57669     4.0  1518349992\n",
       "1  106343        5     4.5  1206238739\n",
       "2  146790     5459     5.0  1076215539\n",
       "3  106362    32296     2.0  1423042565\n",
       "4    9041      366     3.0   833375837"
      ]
     },
     "execution_count": 7,
     "metadata": {
      "tags": []
     },
     "output_type": "execute_result"
    }
   ],
   "source": [
    "train.head()"
   ]
  },
  {
   "cell_type": "code",
   "execution_count": 8,
   "metadata": {
    "colab": {
     "base_uri": "https://localhost:8080/",
     "height": 212
    },
    "colab_type": "code",
    "id": "gkpCXbkpCFG_",
    "outputId": "2b48d2c3-ceac-414e-e80d-e5851d4467d5"
   },
   "outputs": [
    {
     "name": "stdout",
     "output_type": "stream",
     "text": [
      "<class 'pandas.core.frame.DataFrame'>\n",
      "RangeIndex: 10000038 entries, 0 to 10000037\n",
      "Data columns (total 4 columns):\n",
      " #   Column     Dtype  \n",
      "---  ------     -----  \n",
      " 0   userId     int64  \n",
      " 1   movieId    int64  \n",
      " 2   rating     float64\n",
      " 3   timestamp  int64  \n",
      "dtypes: float64(1), int64(3)\n",
      "memory usage: 305.2 MB\n"
     ]
    }
   ],
   "source": [
    "train.info()"
   ]
  },
  {
   "cell_type": "code",
   "execution_count": null,
   "metadata": {
    "colab": {
     "base_uri": "https://localhost:8080/",
     "height": 34
    },
    "colab_type": "code",
    "id": "pkoC7etB5crM",
    "outputId": "fcc1272c-bf0f-487f-bb23-70bca4db7e7a"
   },
   "outputs": [
    {
     "data": {
      "text/plain": [
       "(48213, 162541)"
      ]
     },
     "execution_count": 7,
     "metadata": {
      "tags": []
     },
     "output_type": "execute_result"
    }
   ],
   "source": [
    "train.movieId.nunique(),train.userId.nunique()"
   ]
  },
  {
   "cell_type": "markdown",
   "metadata": {
    "colab_type": "text",
    "id": "l-HzKBs-bXFe"
   },
   "source": [
    "Although the train dataset has 10 000 038 observations, there are 48 213 unique  movies and 162 541 unique users in this data set meaning there is a duplication of movieIds and userIds."
   ]
  },
  {
   "cell_type": "markdown",
   "metadata": {
    "colab_type": "text",
    "id": "8kwpV73EcI7U"
   },
   "source": [
    "##Visualising the data and making observations\n",
    "In this section, we will make observations of the data after we:\n",
    "\n",
    "1. Visualise the distribution of the ratings(0.5-5) of the movies on a bar chart\n",
    "2. Visualise the distribution for the number of ratings per movie\n",
    "3. View the top 10 most frequently rated movies\n",
    "4. Visualise the distribution for the number of ratings per user"
   ]
  },
  {
   "cell_type": "markdown",
   "metadata": {
    "colab_type": "text",
    "id": "xTVqSjC7cU_n"
   },
   "source": [
    "The graph below shows the distribution of the ratings. With 0.5 as the minimum rating and 5 as the highest rating."
   ]
  },
  {
   "cell_type": "code",
   "execution_count": 32,
   "metadata": {
    "colab": {},
    "colab_type": "code",
    "id": "36LGUwPe3VwU"
   },
   "outputs": [],
   "source": [
    "pf =  pd.merge(train, movies, on= 'movieId')"
   ]
  },
  {
   "cell_type": "code",
   "execution_count": 9,
   "metadata": {
    "colab": {
     "base_uri": "https://localhost:8080/",
     "height": 212
    },
    "colab_type": "code",
    "id": "BFRUwzAXChZm",
    "outputId": "48b76950-0f30-4837-bf6c-f690aaaf824e"
   },
   "outputs": [
    {
     "data": {
      "text/plain": [
       "4.0    2652977\n",
       "3.0    1959759\n",
       "5.0    1445230\n",
       "3.5    1270642\n",
       "4.5     880516\n",
       "2.0     656821\n",
       "2.5     505578\n",
       "1.0     311213\n",
       "1.5     159731\n",
       "0.5     157571\n",
       "Name: rating, dtype: int64"
      ]
     },
     "execution_count": 9,
     "metadata": {
      "tags": []
     },
     "output_type": "execute_result"
    }
   ],
   "source": [
    "train.rating.value_counts()"
   ]
  },
  {
   "cell_type": "code",
   "execution_count": 91,
   "metadata": {
    "colab": {
     "base_uri": "https://localhost:8080/",
     "height": 312
    },
    "colab_type": "code",
    "id": "fwBifTE7ymWf",
    "outputId": "00eed00f-29ef-4d50-e31f-9ccbe6169720"
   },
   "outputs": [
    {
     "data": {
      "text/plain": [
       "Text(0.5, 1.0, 'Ratings Distribution')"
      ]
     },
     "execution_count": 91,
     "metadata": {
      "tags": []
     },
     "output_type": "execute_result"
    },
    {
     "data": {
      "image/png": "[encoded data removed]",
      "text/plain": [
       "<Figure size 432x288 with 1 Axes>"
      ]
     },
     "metadata": {
      "tags": []
     },
     "output_type": "display_data"
    }
   ],
   "source": [
    "sns.countplot(x = 'rating', data = train, palette=\"hls\")\n",
    "plt.title(\"Ratings Distribution\")"
   ]
  },
  {
   "cell_type": "markdown",
   "metadata": {
    "colab_type": "text",
    "id": "RIBun-QYIJqx"
   },
   "source": [
    "###Observations made"
   ]
  },
  {
   "cell_type": "markdown",
   "metadata": {
    "colab_type": "text",
    "id": "-HGASs2GwVjJ"
   },
   "source": [
    "\n",
    "It is clear to see that the dataset is highly unbalanced. Therefore we may need to apply methods to balance the data. However, this will impact the training of the machine learning model and will be dealt with later in the notebook."
   ]
  },
  {
   "cell_type": "markdown",
   "metadata": {
    "colab_type": "text",
    "id": "hSo4S5c9If59"
   },
   "source": [
    "The majority of movies (82%) are rated 3 and higher with 4 being the most frequent rating and 0.5 being the least."
   ]
  },
  {
   "cell_type": "markdown",
   "metadata": {
    "colab_type": "text",
    "id": "TtdyJ665DruL"
   },
   "source": [
    "##Merging the datasets"
   ]
  },
  {
   "cell_type": "markdown",
   "metadata": {
    "colab_type": "text",
    "id": "NhqmLgoiDvm4"
   },
   "source": [
    "For further data analysis, we merge the movies dataset and the train dataset since they have a common variable that we can merge them on (movieId)"
   ]
  },
  {
   "cell_type": "code",
   "execution_count": 75,
   "metadata": {
    "colab": {
     "base_uri": "https://localhost:8080/",
     "height": 197
    },
    "colab_type": "code",
    "id": "YB4codnlB2ZC",
    "outputId": "0be1d8f8-d8ab-4f1a-9b25-5345ef72081c"
   },
   "outputs": [
    {
     "data": {
      "text/html": [
       "<div>\n",
       "<style scoped>\n",
       "    .dataframe tbody tr th:only-of-type {\n",
       "        vertical-align: middle;\n",
       "    }\n",
       "\n",
       "    .dataframe tbody tr th {\n",
       "        vertical-align: top;\n",
       "    }\n",
       "\n",
       "    .dataframe thead th {\n",
       "        text-align: right;\n",
       "    }\n",
       "</style>\n",
       "<table border=\"1\" class=\"dataframe\">\n",
       "  <thead>\n",
       "    <tr style=\"text-align: right;\">\n",
       "      <th></th>\n",
       "      <th>userId</th>\n",
       "      <th>movieId</th>\n",
       "      <th>rating</th>\n",
       "      <th>timestamp</th>\n",
       "      <th>title</th>\n",
       "      <th>genres</th>\n",
       "    </tr>\n",
       "  </thead>\n",
       "  <tbody>\n",
       "    <tr>\n",
       "      <th>0</th>\n",
       "      <td>5163</td>\n",
       "      <td>57669</td>\n",
       "      <td>4.0</td>\n",
       "      <td>1518349992</td>\n",
       "      <td>In Bruges (2008)</td>\n",
       "      <td>Comedy|Crime|Drama|Thriller</td>\n",
       "    </tr>\n",
       "    <tr>\n",
       "      <th>1</th>\n",
       "      <td>87388</td>\n",
       "      <td>57669</td>\n",
       "      <td>3.5</td>\n",
       "      <td>1237455297</td>\n",
       "      <td>In Bruges (2008)</td>\n",
       "      <td>Comedy|Crime|Drama|Thriller</td>\n",
       "    </tr>\n",
       "    <tr>\n",
       "      <th>2</th>\n",
       "      <td>137050</td>\n",
       "      <td>57669</td>\n",
       "      <td>4.0</td>\n",
       "      <td>1425631854</td>\n",
       "      <td>In Bruges (2008)</td>\n",
       "      <td>Comedy|Crime|Drama|Thriller</td>\n",
       "    </tr>\n",
       "    <tr>\n",
       "      <th>3</th>\n",
       "      <td>120490</td>\n",
       "      <td>57669</td>\n",
       "      <td>4.5</td>\n",
       "      <td>1408228517</td>\n",
       "      <td>In Bruges (2008)</td>\n",
       "      <td>Comedy|Crime|Drama|Thriller</td>\n",
       "    </tr>\n",
       "    <tr>\n",
       "      <th>4</th>\n",
       "      <td>50616</td>\n",
       "      <td>57669</td>\n",
       "      <td>4.5</td>\n",
       "      <td>1446941640</td>\n",
       "      <td>In Bruges (2008)</td>\n",
       "      <td>Comedy|Crime|Drama|Thriller</td>\n",
       "    </tr>\n",
       "  </tbody>\n",
       "</table>\n",
       "</div>"
      ],
      "text/plain": [
       "   userId  movieId  ...             title                       genres\n",
       "0    5163    57669  ...  In Bruges (2008)  Comedy|Crime|Drama|Thriller\n",
       "1   87388    57669  ...  In Bruges (2008)  Comedy|Crime|Drama|Thriller\n",
       "2  137050    57669  ...  In Bruges (2008)  Comedy|Crime|Drama|Thriller\n",
       "3  120490    57669  ...  In Bruges (2008)  Comedy|Crime|Drama|Thriller\n",
       "4   50616    57669  ...  In Bruges (2008)  Comedy|Crime|Drama|Thriller\n",
       "\n",
       "[5 rows x 6 columns]"
      ]
     },
     "execution_count": 75,
     "metadata": {
      "tags": []
     },
     "output_type": "execute_result"
    }
   ],
   "source": [
    "pf =  pd.merge(train, movies, on= 'movieId')\n",
    "pf.head()"
   ]
  },
  {
   "cell_type": "code",
   "execution_count": 76,
   "metadata": {
    "colab": {
     "base_uri": "https://localhost:8080/",
     "height": 34
    },
    "colab_type": "code",
    "id": "2M6YRda0EMjG",
    "outputId": "4125d928-fdc9-4e2c-e422-a0ebecfadd4f"
   },
   "outputs": [
    {
     "data": {
      "text/plain": [
       "10000038"
      ]
     },
     "execution_count": 76,
     "metadata": {
      "tags": []
     },
     "output_type": "execute_result"
    }
   ],
   "source": [
    "len(pf)"
   ]
  },
  {
   "cell_type": "markdown",
   "metadata": {
    "colab_type": "text",
    "id": "M6UJayAMEfvH"
   },
   "source": [
    "Having the merged dataset allows for an easy reading of movieId with the title alongside it. With this, one is able to associate an Id with the title as well as read grouped data that we will explore in more detail below."
   ]
  },
  {
   "cell_type": "code",
   "execution_count": 62,
   "metadata": {
    "colab": {
     "base_uri": "https://localhost:8080/",
     "height": 227
    },
    "colab_type": "code",
    "id": "X4oWP6Yt3ggv",
    "outputId": "8a807728-1612-4743-bd1e-cc0b7de8e58e"
   },
   "outputs": [
    {
     "data": {
      "text/html": [
       "<div>\n",
       "<style scoped>\n",
       "    .dataframe tbody tr th:only-of-type {\n",
       "        vertical-align: middle;\n",
       "    }\n",
       "\n",
       "    .dataframe tbody tr th {\n",
       "        vertical-align: top;\n",
       "    }\n",
       "\n",
       "    .dataframe thead th {\n",
       "        text-align: right;\n",
       "    }\n",
       "</style>\n",
       "<table border=\"1\" class=\"dataframe\">\n",
       "  <thead>\n",
       "    <tr style=\"text-align: right;\">\n",
       "      <th></th>\n",
       "      <th></th>\n",
       "      <th>mean_rating</th>\n",
       "      <th>Num of ratings</th>\n",
       "    </tr>\n",
       "    <tr>\n",
       "      <th>movieId</th>\n",
       "      <th>title</th>\n",
       "      <th></th>\n",
       "      <th></th>\n",
       "    </tr>\n",
       "  </thead>\n",
       "  <tbody>\n",
       "    <tr>\n",
       "      <th>1</th>\n",
       "      <th>Toy Story (1995)</th>\n",
       "      <td>3.889971</td>\n",
       "      <td>23062</td>\n",
       "    </tr>\n",
       "    <tr>\n",
       "      <th>2</th>\n",
       "      <th>Jumanji (1995)</th>\n",
       "      <td>3.263414</td>\n",
       "      <td>9654</td>\n",
       "    </tr>\n",
       "    <tr>\n",
       "      <th>3</th>\n",
       "      <th>Grumpier Old Men (1995)</th>\n",
       "      <td>3.132325</td>\n",
       "      <td>4727</td>\n",
       "    </tr>\n",
       "    <tr>\n",
       "      <th>4</th>\n",
       "      <th>Waiting to Exhale (1995)</th>\n",
       "      <td>2.878099</td>\n",
       "      <td>968</td>\n",
       "    </tr>\n",
       "    <tr>\n",
       "      <th>5</th>\n",
       "      <th>Father of the Bride Part II (1995)</th>\n",
       "      <td>3.059165</td>\n",
       "      <td>4648</td>\n",
       "    </tr>\n",
       "  </tbody>\n",
       "</table>\n",
       "</div>"
      ],
      "text/plain": [
       "                                            mean_rating  Num of ratings\n",
       "movieId title                                                          \n",
       "1       Toy Story (1995)                       3.889971           23062\n",
       "2       Jumanji (1995)                         3.263414            9654\n",
       "3       Grumpier Old Men (1995)                3.132325            4727\n",
       "4       Waiting to Exhale (1995)               2.878099             968\n",
       "5       Father of the Bride Part II (1995)     3.059165            4648"
      ]
     },
     "execution_count": 62,
     "metadata": {
      "tags": []
     },
     "output_type": "execute_result"
    }
   ],
   "source": [
    "ratings = pd.DataFrame(pf.groupby(['movieId','title'])['rating'].mean())\n",
    "ratings = ratings.rename(columns={'rating': 'mean_rating'})\n",
    "ratings['Num of ratings'] = pd.DataFrame(pf.groupby(['movieId','title'])['rating'].count())\n",
    "ratings.head()"
   ]
  },
  {
   "cell_type": "markdown",
   "metadata": {
    "colab_type": "text",
    "id": "TAhDMFMAFQil"
   },
   "source": [
    "The above dataframe shows the average/mean rating for each movie as well as the number of ratings for that particular movie."
   ]
  },
  {
   "cell_type": "markdown",
   "metadata": {
    "colab_type": "text",
    "id": "54E5mcsAFjzM"
   },
   "source": [
    "####Distribution of the average ratings per movie\n",
    "\n"
   ]
  },
  {
   "cell_type": "code",
   "execution_count": 60,
   "metadata": {
    "colab": {
     "base_uri": "https://localhost:8080/",
     "height": 407
    },
    "colab_type": "code",
    "id": "EL6jaVY16f08",
    "outputId": "780f451b-2e00-4975-ffd4-31663ed07227"
   },
   "outputs": [
    {
     "data": {
      "text/plain": [
       "<matplotlib.axes._subplots.AxesSubplot at 0x7f8f0d1d18d0>"
      ]
     },
     "execution_count": 60,
     "metadata": {
      "tags": []
     },
     "output_type": "execute_result"
    },
    {
     "data": {
      "image/png": "[encoded data removed]",
      "text/plain": [
       "<Figure size 720x432 with 1 Axes>"
      ]
     },
     "metadata": {
      "tags": []
     },
     "output_type": "display_data"
    }
   ],
   "source": [
    "#Distribution of the average ratings per movie\n",
    "fig = plt.figure(figsize=(10,6))\n",
    "plt.title('Distribution Of Average Ratings Per Movie')\n",
    "ratings['mean_rating'].hist(bins = 70)"
   ]
  },
  {
   "cell_type": "markdown",
   "metadata": {
    "colab_type": "text",
    "id": "jOfRCy87GE5j"
   },
   "source": [
    "####Distribution of the number of ratings per movie"
   ]
  },
  {
   "cell_type": "code",
   "execution_count": 59,
   "metadata": {
    "colab": {
     "base_uri": "https://localhost:8080/",
     "height": 281
    },
    "colab_type": "code",
    "id": "Xec6nCrB4nZK",
    "outputId": "a1fc7d1c-30c9-44d3-f705-7f6ef544ad94"
   },
   "outputs": [
    {
     "data": {
      "image/png": "[encoded data removed]",
      "text/plain": [
       "<Figure size 360x288 with 1 Axes>"
      ]
     },
     "metadata": {
      "tags": []
     },
     "output_type": "display_data"
    }
   ],
   "source": [
    "#Distribution of the number of ratings per movie\n",
    "fig = plt.figure(figsize=(5,4))\n",
    "plt.title('Distribution Of Number of Ratings Per Movie')\n",
    "ratings['Num of ratings'].hist(bins = 70)\n",
    "fig.show()"
   ]
  },
  {
   "cell_type": "markdown",
   "metadata": {
    "colab_type": "text",
    "id": "9XfLuixUGKYD"
   },
   "source": [
    "####Joint plot of ratings and number of ratings"
   ]
  },
  {
   "cell_type": "code",
   "execution_count": 53,
   "metadata": {
    "colab": {
     "base_uri": "https://localhost:8080/",
     "height": 458
    },
    "colab_type": "code",
    "id": "VfTCRprM8JUC",
    "outputId": "d8918636-573e-40b5-ea0b-8c8a8677fa78"
   },
   "outputs": [
    {
     "data": {
      "text/plain": [
       "<seaborn.axisgrid.JointGrid at 0x7f8f0d2dab38>"
      ]
     },
     "execution_count": 53,
     "metadata": {
      "tags": []
     },
     "output_type": "execute_result"
    },
    {
     "data": {
      "image/png": "[encoded data removed]",
      "text/plain": [
       "<Figure size 432x432 with 3 Axes>"
      ]
     },
     "metadata": {
      "tags": []
     },
     "output_type": "display_data"
    }
   ],
   "source": [
    "sns.set_style('dark')\n",
    "sns.jointplot(x ='rating' , y ='Num of ratings' , data = rating)"
   ]
  },
  {
   "cell_type": "markdown",
   "metadata": {
    "colab_type": "text",
    "id": "XtQY8QOrF7qw"
   },
   "source": [
    "The 10 most rated movies in the dataset are shown below with the movie Shawshank Redemption at number 1 with 32 831 ratings.It should also be noted that these top 10 most rated movies have more than 20 000 ratings."
   ]
  },
  {
   "cell_type": "code",
   "execution_count": 77,
   "metadata": {
    "colab": {
     "base_uri": "https://localhost:8080/",
     "height": 230
    },
    "colab_type": "code",
    "id": "TTe0Fy8UJ8DL",
    "outputId": "056727db-cf20-4d13-f899-74760d645fc7"
   },
   "outputs": [
    {
     "data": {
      "text/plain": [
       "movieId  title                                    \n",
       "318      Shawshank Redemption, The (1994)             32831\n",
       "356      Forrest Gump (1994)                          32383\n",
       "296      Pulp Fiction (1994)                          31697\n",
       "593      Silence of the Lambs, The (1991)             29444\n",
       "2571     Matrix, The (1999)                           29014\n",
       "260      Star Wars: Episode IV - A New Hope (1977)    27560\n",
       "480      Jurassic Park (1993)                         25518\n",
       "527      Schindler's List (1993)                      24004\n",
       "110      Braveheart (1995)                            23722\n",
       "2959     Fight Club (1999)                            23536\n",
       "Name: rating, dtype: int64"
      ]
     },
     "execution_count": 77,
     "metadata": {
      "tags": []
     },
     "output_type": "execute_result"
    }
   ],
   "source": [
    "pf.groupby(['movieId','title'])['rating'].count().sort_values(ascending = False).head(10)"
   ]
  },
  {
   "cell_type": "markdown",
   "metadata": {
    "colab_type": "text",
    "id": "ro6M141MZRh7"
   },
   "source": [
    "###User engagement with the movies\n",
    "\n",
    "Below we look at how the users engaged with the movies in terms of rating."
   ]
  },
  {
   "cell_type": "code",
   "execution_count": 65,
   "metadata": {
    "colab": {
     "base_uri": "https://localhost:8080/",
     "height": 227
    },
    "colab_type": "code",
    "id": "NKgtCUlsAC_K",
    "outputId": "b83f5606-cd33-4a60-ee30-70495bec72d9"
   },
   "outputs": [
    {
     "data": {
      "text/html": [
       "<div>\n",
       "<style scoped>\n",
       "    .dataframe tbody tr th:only-of-type {\n",
       "        vertical-align: middle;\n",
       "    }\n",
       "\n",
       "    .dataframe tbody tr th {\n",
       "        vertical-align: top;\n",
       "    }\n",
       "\n",
       "    .dataframe thead th {\n",
       "        text-align: right;\n",
       "    }\n",
       "</style>\n",
       "<table border=\"1\" class=\"dataframe\">\n",
       "  <thead>\n",
       "    <tr style=\"text-align: right;\">\n",
       "      <th></th>\n",
       "      <th>Num_movies</th>\n",
       "    </tr>\n",
       "    <tr>\n",
       "      <th>userId</th>\n",
       "      <th></th>\n",
       "    </tr>\n",
       "  </thead>\n",
       "  <tbody>\n",
       "    <tr>\n",
       "      <th>1</th>\n",
       "      <td>28</td>\n",
       "    </tr>\n",
       "    <tr>\n",
       "      <th>2</th>\n",
       "      <td>72</td>\n",
       "    </tr>\n",
       "    <tr>\n",
       "      <th>3</th>\n",
       "      <td>251</td>\n",
       "    </tr>\n",
       "    <tr>\n",
       "      <th>4</th>\n",
       "      <td>89</td>\n",
       "    </tr>\n",
       "    <tr>\n",
       "      <th>5</th>\n",
       "      <td>35</td>\n",
       "    </tr>\n",
       "  </tbody>\n",
       "</table>\n",
       "</div>"
      ],
      "text/plain": [
       "        Num_movies\n",
       "userId            \n",
       "1               28\n",
       "2               72\n",
       "3              251\n",
       "4               89\n",
       "5               35"
      ]
     },
     "execution_count": 65,
     "metadata": {
      "tags": []
     },
     "output_type": "execute_result"
    }
   ],
   "source": [
    "#Dataframe of number users and number of movies they rated\n",
    "Users = pd.DataFrame(pf.groupby('userId')['movieId'].count())\n",
    "Users = Users.rename(columns={'movieId': 'Num_movies'})\n",
    "Users.head()"
   ]
  },
  {
   "cell_type": "code",
   "execution_count": 88,
   "metadata": {
    "colab": {
     "base_uri": "https://localhost:8080/",
     "height": 313
    },
    "colab_type": "code",
    "id": "FPjj7LMINsn8",
    "outputId": "83a0074e-ed02-4c12-d878-edaeacc57974"
   },
   "outputs": [
    {
     "data": {
      "text/plain": [
       "Text(0.5, 1.0, 'Distribution of users that rated less than 10 movies')"
      ]
     },
     "execution_count": 88,
     "metadata": {
      "tags": []
     },
     "output_type": "execute_result"
    },
    {
     "data": {
      "image/png": "[encoded data removed]",
      "text/plain": [
       "<Figure size 432x288 with 1 Axes>"
      ]
     },
     "metadata": {
      "tags": []
     },
     "output_type": "display_data"
    }
   ],
   "source": [
    "less_than_10 = Users[Users['Num_movies']<10]\n",
    "\n",
    "#Users with less than 10 ratings\n",
    "sns.countplot(x = 'Num_movies', data = less_than_10, palette=\"hls\")\n",
    "plt.title(\"Distribution of users that rated less than 10 movies\")"
   ]
  },
  {
   "cell_type": "code",
   "execution_count": 84,
   "metadata": {
    "colab": {
     "base_uri": "https://localhost:8080/",
     "height": 34
    },
    "colab_type": "code",
    "id": "PdBkBOXCMtpf",
    "outputId": "037b1c62-10d1-4a14-ed71-4b3bfe900ea8"
   },
   "outputs": [
    {
     "data": {
      "text/plain": [
       "9.949489667222423"
      ]
     },
     "execution_count": 84,
     "metadata": {
      "tags": []
     },
     "output_type": "execute_result"
    }
   ],
   "source": [
    "(len(less_than_10)/len(Users))*100"
   ]
  },
  {
   "cell_type": "markdown",
   "metadata": {
    "colab_type": "text",
    "id": "xBb8NukPLYF_"
   },
   "source": [
    "The above graph shows the distribution of users that rated less than 10 movies.These users make  9.95% which makes them few."
   ]
  },
  {
   "cell_type": "markdown",
   "metadata": {
    "colab_type": "text",
    "id": "Dec9T3M3PG60"
   },
   "source": [
    "####Distribution of the number of movies per user"
   ]
  },
  {
   "cell_type": "code",
   "execution_count": 79,
   "metadata": {
    "colab": {
     "base_uri": "https://localhost:8080/",
     "height": 281
    },
    "colab_type": "code",
    "id": "zDeyKo-bA9dZ",
    "outputId": "25b9d9c2-9645-4fb1-b8e7-be2fe1a719d2"
   },
   "outputs": [
    {
     "data": {
      "image/png": "[encoded data removed]",
      "text/plain": [
       "<Figure size 360x288 with 1 Axes>"
      ]
     },
     "metadata": {
      "tags": []
     },
     "output_type": "display_data"
    }
   ],
   "source": [
    "#Distribution of the number of movies per user\n",
    "fig = plt.figure(figsize=(5,4))\n",
    "plt.title('Distribution Of Number of Movies Rated by each user')\n",
    "Users['Num_movies'].hist(bins = 70)\n",
    "fig.show()"
   ]
  },
  {
   "cell_type": "markdown",
   "metadata": {
    "colab_type": "text",
    "id": "m7Ce4dUhSnoC"
   },
   "source": [
    "The top 10 most rating users are shown below. We see that user with Id 72 215 has rated the most movies 12 952 and there is a significant difference between top user and the second user. The top user has rated 9 272 more times than the second most rating user."
   ]
  },
  {
   "cell_type": "code",
   "execution_count": 89,
   "metadata": {
    "colab": {
     "base_uri": "https://localhost:8080/",
     "height": 230
    },
    "colab_type": "code",
    "id": "_WyouSgGZV2q",
    "outputId": "a9c67a46-ce84-4aae-85b4-19c499ad0d2b"
   },
   "outputs": [
    {
     "data": {
      "text/plain": [
       "userId\n",
       "72315     12952\n",
       "80974      3680\n",
       "137293     3588\n",
       "33844      3208\n",
       "20055      3050\n",
       "109731     2671\n",
       "49403      2670\n",
       "92046      2579\n",
       "110971     2288\n",
       "30879      2284\n",
       "Name: rating, dtype: int64"
      ]
     },
     "execution_count": 89,
     "metadata": {
      "tags": []
     },
     "output_type": "execute_result"
    }
   ],
   "source": [
    "#How many movies did each user rate\n",
    "pf.groupby('userId')['rating'].count().sort_values(ascending = False).head(10)"
   ]
  },
  {
   "cell_type": "markdown",
   "metadata": {
    "colab_type": "text",
    "id": "HNtKFpPHTmiE"
   },
   "source": [
    "The bottom users by rating are as follows:"
   ]
  },
  {
   "cell_type": "code",
   "execution_count": 90,
   "metadata": {
    "colab": {
     "base_uri": "https://localhost:8080/",
     "height": 230
    },
    "colab_type": "code",
    "id": "lspnsGIBTggV",
    "outputId": "55121a28-4a58-456e-9165-04fcb38fa3b9"
   },
   "outputs": [
    {
     "data": {
      "text/plain": [
       "userId\n",
       "138028    2\n",
       "113147    2\n",
       "153150    2\n",
       "120862    2\n",
       "79087     1\n",
       "55362     1\n",
       "121071    1\n",
       "127098    1\n",
       "53640     1\n",
       "105714    1\n",
       "Name: rating, dtype: int64"
      ]
     },
     "execution_count": 90,
     "metadata": {
      "tags": []
     },
     "output_type": "execute_result"
    }
   ],
   "source": [
    "pf.groupby('userId')['rating'].count().sort_values(ascending = False).tail(10)"
   ]
  },
  {
   "cell_type": "markdown",
   "metadata": {
    "colab_type": "text",
    "id": "GNvTDlxfRPir"
   },
   "source": [
    "###Train Test Split"
   ]
  },
  {
   "cell_type": "markdown",
   "metadata": {
    "colab_type": "text",
    "id": "TuEqQTnoT9Qw"
   },
   "source": [
    "Here we divide our data into training data and testing data of 2%"
   ]
  },
  {
   "cell_type": "code",
   "execution_count": null,
   "metadata": {
    "colab": {},
    "colab_type": "code",
    "id": "3nLaTI0B8G-a"
   },
   "outputs": [],
   "source": [
    "train_data,test_data = train_test_split(data,test_size=0.02,random_state=42)"
   ]
  },
  {
   "cell_type": "markdown",
   "metadata": {
    "colab_type": "text",
    "id": "MWdU0HAz7iNo"
   },
   "source": [
    "###Prediction "
   ]
  },
  {
   "cell_type": "markdown",
   "metadata": {
    "colab_type": "text",
    "id": "CwWonTp32EdG"
   },
   "source": [
    "Here we a use popular latent factor model named Singular Value Decomposition (SVD)."
   ]
  },
  {
   "cell_type": "code",
   "execution_count": null,
   "metadata": {
    "colab": {},
    "colab_type": "code",
    "id": "hb3MDiCUDOtt"
   },
   "outputs": [],
   "source": [
    "# We'll use the famous SVD algorithm.\n",
    "algo = SVD(random_state=42)\n",
    "\n",
    "#Fit our SVD\n",
    "algo.fit(train_data)"
   ]
  },
  {
   "cell_type": "code",
   "execution_count": null,
   "metadata": {
    "colab": {},
    "colab_type": "code",
    "id": "ABD7OObsRtTq"
   },
   "outputs": [],
   "source": [
    "predictions = algo.test(test_data)\n",
    "pd.DataFrame(predictions)"
   ]
  },
  {
   "cell_type": "markdown",
   "metadata": {
    "colab_type": "text",
    "id": "LjW9RY_aULok"
   },
   "source": [
    "To calculate the accuracy rmse for our predictions we use the accuracy. function."
   ]
  },
  {
   "cell_type": "code",
   "execution_count": null,
   "metadata": {
    "colab": {},
    "colab_type": "code",
    "id": "duHwgoGhvd3q"
   },
   "outputs": [],
   "source": [
    "accuracy.rmse(predictions)"
   ]
  },
  {
   "cell_type": "code",
   "execution_count": null,
   "metadata": {
    "colab": {},
    "colab_type": "code",
    "id": "honrNAMWWnfn"
   },
   "outputs": [],
   "source": [
    "accuracy.mae(predictions)"
   ]
  },
  {
   "cell_type": "markdown",
   "metadata": {
    "colab_type": "text",
    "id": "hkfZqIbs9NnW"
   },
   "source": [
    "#Ending comet experiment"
   ]
  },
  {
   "cell_type": "code",
   "execution_count": null,
   "metadata": {
    "colab": {},
    "colab_type": "code",
    "id": "xqgArL92mu7l"
   },
   "outputs": [],
   "source": [
    "metrics = {\"rmse\": rmse,\n",
    "           \"mae\": mae,\n",
    "        \n",
    "           }"
   ]
  },
  {
   "cell_type": "code",
   "execution_count": null,
   "metadata": {
    "colab": {},
    "colab_type": "code",
    "id": "Lq3L3SHeWHGB"
   },
   "outputs": [],
   "source": [
    "experiment.log_metrics(metrics)\n"
   ]
  },
  {
   "cell_type": "code",
   "execution_count": null,
   "metadata": {
    "colab": {},
    "colab_type": "code",
    "id": "Vx8UNYiYWTOc"
   },
   "outputs": [],
   "source": [
    "experiment.end()"
   ]
  },
  {
   "cell_type": "markdown",
   "metadata": {
    "colab_type": "text",
    "id": "l9uWTCSKBGjG"
   },
   "source": [
    "#Analysis and Insights"
   ]
  },
  {
   "cell_type": "markdown",
   "metadata": {
    "colab_type": "text",
    "id": "oXXb-9XQatno"
   },
   "source": [
    "What did you learn\n",
    "\n",
    "\n",
    "More about recommender systems"
   ]
  },
  {
   "cell_type": "markdown",
   "metadata": {
    "colab_type": "text",
    "id": "lbnNi5lfsjY7"
   },
   "source": [
    "# Project conclusion\n",
    "\n",
    "Providing an accurate and robust solution to this challenge has immense economic potential, with users of the system being exposed to content they would like to view or purchase - generating revenue and platform affinity.\n",
    "\n",
    "Insights found:\n",
    "\n",
    "\n",
    "\n",
    "\n",
    "\n",
    "\n",
    "\n",
    "\n",
    "\n",
    "Model building and Training:\n",
    "\n",
    "\n",
    "\n",
    "\n",
    "\n",
    "\n",
    "\n",
    "\n",
    "\n",
    "\n",
    "\n",
    "Model building and Training:"
   ]
  },
  {
   "cell_type": "markdown",
   "metadata": {
    "colab_type": "text",
    "id": "qJfMpmoxSs9I"
   },
   "source": [
    "\n",
    "Submission findings:\n",
    "\n",
    "The achieved score on Kaggle is 0.80344 which happened to be the best score"
   ]
  },
  {
   "cell_type": "markdown",
   "metadata": {
    "colab_type": "text",
    "id": "FmXpHVuuRrM6"
   },
   "source": [
    "# Project Improvements:\n",
    "\n",
    "The team identified multiple issues as they progressed through the project which allowed us to make a note of improvements that can be made when redoing the project:\n",
    "\n",
    "Mine more data, this will avoid the overfitting issue\n",
    "Apply more insight analysis such as wordclouds with more depth as well as entity recognition. This can potentially provide more information about the users of this dataset\n",
    "Train models successfully with the extended_df (this failed and was discarded for alternative methods)\n",
    "Explore deep learning and determine if this problem would be a good fit for such a machine learning technique.\n",
    "Increased hardware performance will allow for the code in the Appendix to be run, this may result in better metrics.\n",
    "When mining data, it would be useful to also obtain location tags and time stamps of the movies."
   ]
  }
 ],
 "metadata": {
  "colab": {
   "include_colab_link": true,
   "name": "Team_#5_CPT.ipynb",
   "provenance": [],
   "toc_visible": true
  },
  "kernelspec": {
   "display_name": "Python 3",
   "language": "python",
   "name": "python3"
  },
  "language_info": {
   "codemirror_mode": {
    "name": "ipython",
    "version": 3
   },
   "file_extension": ".py",
   "mimetype": "text/x-python",
   "name": "python",
   "nbconvert_exporter": "python",
   "pygments_lexer": "ipython3",
   "version": "3.7.4"
  }
 },
 "nbformat": 4,
 "nbformat_minor": 1
}
